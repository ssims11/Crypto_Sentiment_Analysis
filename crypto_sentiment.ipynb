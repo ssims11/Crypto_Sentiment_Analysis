{
 "cells": [
  {
   "cell_type": "markdown",
   "source": [
    "# Unit 12 - Tales from the Crypto\n",
    "\n",
    "---\n"
   ],
   "metadata": {}
  },
  {
   "cell_type": "markdown",
   "source": [
    "## 1. Sentiment Analysis\n",
    "\n",
    "Use the [newsapi](https://newsapi.org/) to pull the latest news articles for Bitcoin and Ethereum and create a DataFrame of sentiment scores for each coin.\n",
    "\n",
    "Use descriptive statistics to answer the following questions:\n",
    "1. Which coin had the highest mean positive score?\n",
    "2. Which coin had the highest negative score?\n",
    "3. Which coin had the highest positive score?"
   ],
   "metadata": {}
  },
  {
   "cell_type": "code",
   "execution_count": 14,
   "source": [
    "# Initial imports\r\n",
    "import os\r\n",
    "import pandas as pd\r\n",
    "from dotenv import load_dotenv\r\n",
    "import nltk as nltk\r\n",
    "nltk.download('vader_lexicon')\r\n",
    "from nltk.sentiment.vader import SentimentIntensityAnalyzer\r\n",
    "analyzer = SentimentIntensityAnalyzer()\r\n",
    "\r\n",
    "%matplotlib inline"
   ],
   "outputs": [
    {
     "output_type": "stream",
     "name": "stderr",
     "text": [
      "[nltk_data] Downloading package vader_lexicon to\n",
      "[nltk_data]     C:\\Users\\Stephan\\AppData\\Roaming\\nltk_data...\n",
      "[nltk_data]   Package vader_lexicon is already up-to-date!\n"
     ]
    }
   ],
   "metadata": {}
  },
  {
   "cell_type": "code",
   "execution_count": 15,
   "source": [
    "# Read your api key environment variable\r\n",
    "load_dotenv()\r\n",
    "api_key = os.getenv('news_api')\r\n",
    "api_key"
   ],
   "outputs": [
    {
     "output_type": "execute_result",
     "data": {
      "text/plain": [
       "'351bb33c669e4b33a626c9e7b3aa4204'"
      ]
     },
     "metadata": {},
     "execution_count": 15
    }
   ],
   "metadata": {}
  },
  {
   "cell_type": "code",
   "execution_count": 16,
   "source": [
    "# Create a newsapi client\r\n",
    "from newsapi import NewsApiClient\r\n",
    "#newsapi = NewsApiClient(api_key = api_key)\r\n",
    "newsapi = NewsApiClient(api_key = api_key)\r\n",
    "\r\n",
    "newsapi"
   ],
   "outputs": [
    {
     "output_type": "execute_result",
     "data": {
      "text/plain": [
       "<newsapi.newsapi_client.NewsApiClient at 0x17021c1de88>"
      ]
     },
     "metadata": {},
     "execution_count": 16
    }
   ],
   "metadata": {}
  },
  {
   "cell_type": "code",
   "execution_count": 17,
   "source": [
    "# Fetch the Bitcoin news articles\r\n",
    "# YOUR CODE HERE!\r\n",
    "btcnews = newsapi.get_everything(\r\n",
    "    q = 'BTC AND Bitcoin AND btc',\r\n",
    "    language = 'en',\r\n",
    "    sort_by = 'relevancy'\r\n",
    ")\r\n",
    "#btcnews = newsapi.get_top_headlines(q = 'btc AND Bitcoin', language = 'en', sort_by = 'relevancy')\r\n",
    "#btcnews = newsapi.get_everything(q = 'Bitcoin')\r\n",
    "#btcnews = newsapi.get_top_headlines(q = 'Bitcoin', language = 'en')\r\n",
    "\r\n",
    "btcnews['articles'][0]"
   ],
   "outputs": [
    {
     "output_type": "execute_result",
     "data": {
      "text/plain": [
       "{'source': {'id': None, 'name': 'Entrepreneur'},\n",
       " 'author': 'Adrian Nita',\n",
       " 'title': 'What to Know Before Investing in Crypto',\n",
       " 'description': \"The crypto market is in the midst of a bear market, and it's been tough for many investors. But how do you cope?\",\n",
       " 'url': 'https://www.entrepreneur.com/article/376139',\n",
       " 'urlToImage': 'https://assets.entrepreneur.com/content/3x2/2000/1625167840-GettyImages-1292889055.jpg',\n",
       " 'publishedAt': '2021-07-08T12:00:00Z',\n",
       " 'content': 'Opinions expressed by Entrepreneur contributors are their own.\\r\\nCrypto is a volatile market that has seen its share of crashes, but the latest Bitcoin crash showed that not all crypto investors are r… [+5791 chars]'}"
      ]
     },
     "metadata": {},
     "execution_count": 17
    }
   ],
   "metadata": {}
  },
  {
   "cell_type": "code",
   "execution_count": 18,
   "source": [
    "# Create the Bitcoin sentiment scores DataFrame\r\n",
    "# YOUR CODE HERE!\r\n",
    "btc_sentiments = []\r\n",
    "\r\n",
    "for article in btcnews['articles']:\r\n",
    "    try:\r\n",
    "        text = article[\"content\"]\r\n",
    "        date = article[\"publishedAt\"][:10]\r\n",
    "        sentiment = analyzer.polarity_scores(text)\r\n",
    "        compound = sentiment[\"compound\"]\r\n",
    "        pos = sentiment[\"pos\"]\r\n",
    "        neu = sentiment[\"neu\"]\r\n",
    "        neg = sentiment[\"neg\"]\r\n",
    "        \r\n",
    "        btc_sentiments.append({\r\n",
    "            \"text\": text,\r\n",
    "            \"date\": date,\r\n",
    "            \"compound\": compound,\r\n",
    "            \"positive\": pos,\r\n",
    "            \"negative\": neg,\r\n",
    "            \"neutral\": neu\r\n",
    "            \r\n",
    "        })\r\n",
    "        \r\n",
    "    except AttributeError:\r\n",
    "        pass\r\n",
    "\r\n",
    "btc_df = pd.DataFrame(btc_sentiments)\r\n",
    "\r\n",
    "columns = [\"date\", \"text\", \"compound\", \"positive\", \"negative\", \"neutral\"]\r\n",
    "btc_df = btc_df[columns]\r\n",
    "\r\n",
    "btc_df.head()\r\n"
   ],
   "outputs": [
    {
     "output_type": "execute_result",
     "data": {
      "text/html": [
       "<div>\n",
       "<style scoped>\n",
       "    .dataframe tbody tr th:only-of-type {\n",
       "        vertical-align: middle;\n",
       "    }\n",
       "\n",
       "    .dataframe tbody tr th {\n",
       "        vertical-align: top;\n",
       "    }\n",
       "\n",
       "    .dataframe thead th {\n",
       "        text-align: right;\n",
       "    }\n",
       "</style>\n",
       "<table border=\"1\" class=\"dataframe\">\n",
       "  <thead>\n",
       "    <tr style=\"text-align: right;\">\n",
       "      <th></th>\n",
       "      <th>date</th>\n",
       "      <th>text</th>\n",
       "      <th>compound</th>\n",
       "      <th>positive</th>\n",
       "      <th>negative</th>\n",
       "      <th>neutral</th>\n",
       "    </tr>\n",
       "  </thead>\n",
       "  <tbody>\n",
       "    <tr>\n",
       "      <th>0</th>\n",
       "      <td>2021-07-08</td>\n",
       "      <td>Opinions expressed by Entrepreneur contributor...</td>\n",
       "      <td>-0.4497</td>\n",
       "      <td>0.043</td>\n",
       "      <td>0.096</td>\n",
       "      <td>0.861</td>\n",
       "    </tr>\n",
       "    <tr>\n",
       "      <th>1</th>\n",
       "      <td>2021-07-08</td>\n",
       "      <td>Bitcoin has lost around half its value since A...</td>\n",
       "      <td>-0.0258</td>\n",
       "      <td>0.071</td>\n",
       "      <td>0.103</td>\n",
       "      <td>0.826</td>\n",
       "    </tr>\n",
       "    <tr>\n",
       "      <th>2</th>\n",
       "      <td>2021-06-22</td>\n",
       "      <td>HONG KONG (Reuters) - Bitcoin regained some gr...</td>\n",
       "      <td>-0.5719</td>\n",
       "      <td>0.000</td>\n",
       "      <td>0.153</td>\n",
       "      <td>0.847</td>\n",
       "    </tr>\n",
       "    <tr>\n",
       "      <th>3</th>\n",
       "      <td>2021-06-22</td>\n",
       "      <td>HONG KONG, June 22 (Reuters) - Bitcoin regaine...</td>\n",
       "      <td>-0.5719</td>\n",
       "      <td>0.000</td>\n",
       "      <td>0.148</td>\n",
       "      <td>0.852</td>\n",
       "    </tr>\n",
       "    <tr>\n",
       "      <th>4</th>\n",
       "      <td>2021-07-18</td>\n",
       "      <td>A local business in El Salvador that accepts b...</td>\n",
       "      <td>0.3182</td>\n",
       "      <td>0.073</td>\n",
       "      <td>0.000</td>\n",
       "      <td>0.927</td>\n",
       "    </tr>\n",
       "  </tbody>\n",
       "</table>\n",
       "</div>"
      ],
      "text/plain": [
       "         date                                               text  compound  \\\n",
       "0  2021-07-08  Opinions expressed by Entrepreneur contributor...   -0.4497   \n",
       "1  2021-07-08  Bitcoin has lost around half its value since A...   -0.0258   \n",
       "2  2021-06-22  HONG KONG (Reuters) - Bitcoin regained some gr...   -0.5719   \n",
       "3  2021-06-22  HONG KONG, June 22 (Reuters) - Bitcoin regaine...   -0.5719   \n",
       "4  2021-07-18  A local business in El Salvador that accepts b...    0.3182   \n",
       "\n",
       "   positive  negative  neutral  \n",
       "0     0.043     0.096    0.861  \n",
       "1     0.071     0.103    0.826  \n",
       "2     0.000     0.153    0.847  \n",
       "3     0.000     0.148    0.852  \n",
       "4     0.073     0.000    0.927  "
      ]
     },
     "metadata": {},
     "execution_count": 18
    }
   ],
   "metadata": {}
  },
  {
   "cell_type": "code",
   "execution_count": 19,
   "source": [
    "def get_sentiment(score):\r\n",
    "\r\n",
    "    btc_result = 0  # Neutral by default\r\n",
    "    if score >= 0.05:  # Positive\r\n",
    "        btc_result = 1\r\n",
    "    elif score <= -0.05:  # Negative\r\n",
    "        btc_result = -1\r\n",
    "\r\n",
    "    return btc_result"
   ],
   "outputs": [],
   "metadata": {}
  },
  {
   "cell_type": "code",
   "execution_count": 20,
   "source": [
    "# Describe the Bitcoin Sentiment\r\n",
    "# YOUR CODE HERE!\r\n",
    "btc_df.describe()"
   ],
   "outputs": [
    {
     "output_type": "execute_result",
     "data": {
      "text/html": [
       "<div>\n",
       "<style scoped>\n",
       "    .dataframe tbody tr th:only-of-type {\n",
       "        vertical-align: middle;\n",
       "    }\n",
       "\n",
       "    .dataframe tbody tr th {\n",
       "        vertical-align: top;\n",
       "    }\n",
       "\n",
       "    .dataframe thead th {\n",
       "        text-align: right;\n",
       "    }\n",
       "</style>\n",
       "<table border=\"1\" class=\"dataframe\">\n",
       "  <thead>\n",
       "    <tr style=\"text-align: right;\">\n",
       "      <th></th>\n",
       "      <th>compound</th>\n",
       "      <th>positive</th>\n",
       "      <th>negative</th>\n",
       "      <th>neutral</th>\n",
       "    </tr>\n",
       "  </thead>\n",
       "  <tbody>\n",
       "    <tr>\n",
       "      <th>count</th>\n",
       "      <td>20.000000</td>\n",
       "      <td>20.00000</td>\n",
       "      <td>20.000000</td>\n",
       "      <td>20.000000</td>\n",
       "    </tr>\n",
       "    <tr>\n",
       "      <th>mean</th>\n",
       "      <td>-0.184140</td>\n",
       "      <td>0.03710</td>\n",
       "      <td>0.079250</td>\n",
       "      <td>0.883650</td>\n",
       "    </tr>\n",
       "    <tr>\n",
       "      <th>std</th>\n",
       "      <td>0.468673</td>\n",
       "      <td>0.05767</td>\n",
       "      <td>0.078076</td>\n",
       "      <td>0.078621</td>\n",
       "    </tr>\n",
       "    <tr>\n",
       "      <th>min</th>\n",
       "      <td>-0.862500</td>\n",
       "      <td>0.00000</td>\n",
       "      <td>0.000000</td>\n",
       "      <td>0.758000</td>\n",
       "    </tr>\n",
       "    <tr>\n",
       "      <th>25%</th>\n",
       "      <td>-0.571900</td>\n",
       "      <td>0.00000</td>\n",
       "      <td>0.000000</td>\n",
       "      <td>0.824250</td>\n",
       "    </tr>\n",
       "    <tr>\n",
       "      <th>50%</th>\n",
       "      <td>-0.182900</td>\n",
       "      <td>0.00000</td>\n",
       "      <td>0.084500</td>\n",
       "      <td>0.870000</td>\n",
       "    </tr>\n",
       "    <tr>\n",
       "      <th>75%</th>\n",
       "      <td>0.025675</td>\n",
       "      <td>0.07025</td>\n",
       "      <td>0.134500</td>\n",
       "      <td>0.930500</td>\n",
       "    </tr>\n",
       "    <tr>\n",
       "      <th>max</th>\n",
       "      <td>0.765000</td>\n",
       "      <td>0.21300</td>\n",
       "      <td>0.242000</td>\n",
       "      <td>1.000000</td>\n",
       "    </tr>\n",
       "  </tbody>\n",
       "</table>\n",
       "</div>"
      ],
      "text/plain": [
       "        compound  positive   negative    neutral\n",
       "count  20.000000  20.00000  20.000000  20.000000\n",
       "mean   -0.184140   0.03710   0.079250   0.883650\n",
       "std     0.468673   0.05767   0.078076   0.078621\n",
       "min    -0.862500   0.00000   0.000000   0.758000\n",
       "25%    -0.571900   0.00000   0.000000   0.824250\n",
       "50%    -0.182900   0.00000   0.084500   0.870000\n",
       "75%     0.025675   0.07025   0.134500   0.930500\n",
       "max     0.765000   0.21300   0.242000   1.000000"
      ]
     },
     "metadata": {},
     "execution_count": 20
    }
   ],
   "metadata": {}
  },
  {
   "cell_type": "code",
   "execution_count": 21,
   "source": [
    "# Fetch the Ethereum news articles\r\n",
    "# YOUR CODE HERE!\r\n",
    "ethnews = newsapi.get_everything(\r\n",
    "    q = 'Ethereum AND ETH AND eth', \r\n",
    "    language = 'en',\r\n",
    "    sort_by = 'relevancy'\r\n",
    ")\r\n",
    "ethnews['articles'][0]"
   ],
   "outputs": [
    {
     "output_type": "execute_result",
     "data": {
      "text/plain": [
       "{'source': {'id': None, 'name': 'Avc.com'},\n",
       " 'author': 'Fred Wilson',\n",
       " 'title': 'Funding Friday: Ethereum: The Infinite Garden',\n",
       " 'description': 'ETHEREUM: THE INFINITE GARDEN is a “feature-length documentary film that explores the innovative real-world applications of the Ethereum blockchain, the die-hard community of enthusiasts and developers, and its creator, Vitalik Buterin, whose vision for the i…',\n",
       " 'url': 'https://avc.com/2021/07/funding-friday-ethereum-the-infinite-garden/',\n",
       " 'urlToImage': 'https://avc.com/content/uploads/2021/07/Screen-Shot-2021-07-16-at-7.14.35-AM.png',\n",
       " 'publishedAt': '2021-07-16T11:23:51Z',\n",
       " 'content': 'ETHEREUM: THE INFINITE GARDEN is a “feature-length documentary film that explores the innovative real-world applications of the Ethereum blockchain, the die-hard community of enthusiasts and develope… [+522 chars]'}"
      ]
     },
     "metadata": {},
     "execution_count": 21
    }
   ],
   "metadata": {}
  },
  {
   "cell_type": "code",
   "execution_count": 22,
   "source": [
    "# Create the Ethereum sentiment scores DataFrame\r\n",
    "# YOUR CODE HERE!\r\n",
    "eth_sentiments = []\r\n",
    "\r\n",
    "for article in ethnews['articles']:\r\n",
    "    try:\r\n",
    "        text = article[\"content\"]\r\n",
    "        date = article[\"publishedAt\"][:10]\r\n",
    "        sentiment = analyzer.polarity_scores(text)\r\n",
    "        compound = sentiment[\"compound\"]\r\n",
    "        pos = sentiment[\"pos\"]\r\n",
    "        neu = sentiment[\"neu\"]\r\n",
    "        neg = sentiment[\"neg\"]\r\n",
    "        \r\n",
    "        btc_sentiments.append({\r\n",
    "            \"text\": text,\r\n",
    "            \"date\": date,\r\n",
    "            \"compound\": compound,\r\n",
    "            \"positive\": pos,\r\n",
    "            \"negative\": neg,\r\n",
    "            \"neutral\": neu\r\n",
    "            \r\n",
    "        })\r\n",
    "        \r\n",
    "    except AttributeError:\r\n",
    "        pass\r\n",
    "\r\n",
    "eth_df = pd.DataFrame(eth_sentiments)\r\n",
    "\r\n",
    "columns = [\"date\", \"text\", \"compound\", \"positive\", \"negative\", \"neutral\"]\r\n",
    "eth_df = btc_df[columns]\r\n",
    "\r\n",
    "eth_df.head()"
   ],
   "outputs": [
    {
     "output_type": "execute_result",
     "data": {
      "text/html": [
       "<div>\n",
       "<style scoped>\n",
       "    .dataframe tbody tr th:only-of-type {\n",
       "        vertical-align: middle;\n",
       "    }\n",
       "\n",
       "    .dataframe tbody tr th {\n",
       "        vertical-align: top;\n",
       "    }\n",
       "\n",
       "    .dataframe thead th {\n",
       "        text-align: right;\n",
       "    }\n",
       "</style>\n",
       "<table border=\"1\" class=\"dataframe\">\n",
       "  <thead>\n",
       "    <tr style=\"text-align: right;\">\n",
       "      <th></th>\n",
       "      <th>date</th>\n",
       "      <th>text</th>\n",
       "      <th>compound</th>\n",
       "      <th>positive</th>\n",
       "      <th>negative</th>\n",
       "      <th>neutral</th>\n",
       "    </tr>\n",
       "  </thead>\n",
       "  <tbody>\n",
       "    <tr>\n",
       "      <th>0</th>\n",
       "      <td>2021-07-08</td>\n",
       "      <td>Opinions expressed by Entrepreneur contributor...</td>\n",
       "      <td>-0.4497</td>\n",
       "      <td>0.043</td>\n",
       "      <td>0.096</td>\n",
       "      <td>0.861</td>\n",
       "    </tr>\n",
       "    <tr>\n",
       "      <th>1</th>\n",
       "      <td>2021-07-08</td>\n",
       "      <td>Bitcoin has lost around half its value since A...</td>\n",
       "      <td>-0.0258</td>\n",
       "      <td>0.071</td>\n",
       "      <td>0.103</td>\n",
       "      <td>0.826</td>\n",
       "    </tr>\n",
       "    <tr>\n",
       "      <th>2</th>\n",
       "      <td>2021-06-22</td>\n",
       "      <td>HONG KONG (Reuters) - Bitcoin regained some gr...</td>\n",
       "      <td>-0.5719</td>\n",
       "      <td>0.000</td>\n",
       "      <td>0.153</td>\n",
       "      <td>0.847</td>\n",
       "    </tr>\n",
       "    <tr>\n",
       "      <th>3</th>\n",
       "      <td>2021-06-22</td>\n",
       "      <td>HONG KONG, June 22 (Reuters) - Bitcoin regaine...</td>\n",
       "      <td>-0.5719</td>\n",
       "      <td>0.000</td>\n",
       "      <td>0.148</td>\n",
       "      <td>0.852</td>\n",
       "    </tr>\n",
       "    <tr>\n",
       "      <th>4</th>\n",
       "      <td>2021-07-18</td>\n",
       "      <td>A local business in El Salvador that accepts b...</td>\n",
       "      <td>0.3182</td>\n",
       "      <td>0.073</td>\n",
       "      <td>0.000</td>\n",
       "      <td>0.927</td>\n",
       "    </tr>\n",
       "  </tbody>\n",
       "</table>\n",
       "</div>"
      ],
      "text/plain": [
       "         date                                               text  compound  \\\n",
       "0  2021-07-08  Opinions expressed by Entrepreneur contributor...   -0.4497   \n",
       "1  2021-07-08  Bitcoin has lost around half its value since A...   -0.0258   \n",
       "2  2021-06-22  HONG KONG (Reuters) - Bitcoin regained some gr...   -0.5719   \n",
       "3  2021-06-22  HONG KONG, June 22 (Reuters) - Bitcoin regaine...   -0.5719   \n",
       "4  2021-07-18  A local business in El Salvador that accepts b...    0.3182   \n",
       "\n",
       "   positive  negative  neutral  \n",
       "0     0.043     0.096    0.861  \n",
       "1     0.071     0.103    0.826  \n",
       "2     0.000     0.153    0.847  \n",
       "3     0.000     0.148    0.852  \n",
       "4     0.073     0.000    0.927  "
      ]
     },
     "metadata": {},
     "execution_count": 22
    }
   ],
   "metadata": {}
  },
  {
   "cell_type": "code",
   "execution_count": 10,
   "source": [
    "# Describe the Ethereum Sentiment\r\n",
    "# YOUR CODE HERE!\r\n",
    "eth_df.describe()"
   ],
   "outputs": [
    {
     "output_type": "execute_result",
     "data": {
      "text/html": [
       "<div>\n",
       "<style scoped>\n",
       "    .dataframe tbody tr th:only-of-type {\n",
       "        vertical-align: middle;\n",
       "    }\n",
       "\n",
       "    .dataframe tbody tr th {\n",
       "        vertical-align: top;\n",
       "    }\n",
       "\n",
       "    .dataframe thead th {\n",
       "        text-align: right;\n",
       "    }\n",
       "</style>\n",
       "<table border=\"1\" class=\"dataframe\">\n",
       "  <thead>\n",
       "    <tr style=\"text-align: right;\">\n",
       "      <th></th>\n",
       "      <th>compound</th>\n",
       "      <th>positive</th>\n",
       "      <th>negative</th>\n",
       "      <th>neutral</th>\n",
       "    </tr>\n",
       "  </thead>\n",
       "  <tbody>\n",
       "    <tr>\n",
       "      <th>count</th>\n",
       "      <td>20.000000</td>\n",
       "      <td>20.00000</td>\n",
       "      <td>20.000000</td>\n",
       "      <td>20.000000</td>\n",
       "    </tr>\n",
       "    <tr>\n",
       "      <th>mean</th>\n",
       "      <td>-0.184140</td>\n",
       "      <td>0.03710</td>\n",
       "      <td>0.079250</td>\n",
       "      <td>0.883650</td>\n",
       "    </tr>\n",
       "    <tr>\n",
       "      <th>std</th>\n",
       "      <td>0.468673</td>\n",
       "      <td>0.05767</td>\n",
       "      <td>0.078076</td>\n",
       "      <td>0.078621</td>\n",
       "    </tr>\n",
       "    <tr>\n",
       "      <th>min</th>\n",
       "      <td>-0.862500</td>\n",
       "      <td>0.00000</td>\n",
       "      <td>0.000000</td>\n",
       "      <td>0.758000</td>\n",
       "    </tr>\n",
       "    <tr>\n",
       "      <th>25%</th>\n",
       "      <td>-0.571900</td>\n",
       "      <td>0.00000</td>\n",
       "      <td>0.000000</td>\n",
       "      <td>0.824250</td>\n",
       "    </tr>\n",
       "    <tr>\n",
       "      <th>50%</th>\n",
       "      <td>-0.182900</td>\n",
       "      <td>0.00000</td>\n",
       "      <td>0.084500</td>\n",
       "      <td>0.870000</td>\n",
       "    </tr>\n",
       "    <tr>\n",
       "      <th>75%</th>\n",
       "      <td>0.025675</td>\n",
       "      <td>0.07025</td>\n",
       "      <td>0.134500</td>\n",
       "      <td>0.930500</td>\n",
       "    </tr>\n",
       "    <tr>\n",
       "      <th>max</th>\n",
       "      <td>0.765000</td>\n",
       "      <td>0.21300</td>\n",
       "      <td>0.242000</td>\n",
       "      <td>1.000000</td>\n",
       "    </tr>\n",
       "  </tbody>\n",
       "</table>\n",
       "</div>"
      ],
      "text/plain": [
       "        compound  positive   negative    neutral\n",
       "count  20.000000  20.00000  20.000000  20.000000\n",
       "mean   -0.184140   0.03710   0.079250   0.883650\n",
       "std     0.468673   0.05767   0.078076   0.078621\n",
       "min    -0.862500   0.00000   0.000000   0.758000\n",
       "25%    -0.571900   0.00000   0.000000   0.824250\n",
       "50%    -0.182900   0.00000   0.084500   0.870000\n",
       "75%     0.025675   0.07025   0.134500   0.930500\n",
       "max     0.765000   0.21300   0.242000   1.000000"
      ]
     },
     "metadata": {},
     "execution_count": 10
    }
   ],
   "metadata": {}
  },
  {
   "cell_type": "code",
   "execution_count": 23,
   "source": [
    "def get_sentiment(score):\r\n",
    "\r\n",
    "    eth_result = 0  # Neutral by default\r\n",
    "    if score >= 0.05:  # Positive\r\n",
    "        eth_result = 1\r\n",
    "    elif score <= -0.05:  # Negative\r\n",
    "        eth_result = -1\r\n",
    "\r\n",
    "    return eth_result"
   ],
   "outputs": [],
   "metadata": {}
  },
  {
   "cell_type": "markdown",
   "source": [
    "### Questions:\n",
    "\n",
    "Q: Which coin had the highest mean positive score?\n",
    "\n",
    "A: \n",
    "\n",
    "Q: Which coin had the highest compound score?\n",
    "\n",
    "A: \n",
    "\n",
    "Q. Which coin had the highest positive score?\n",
    "\n",
    "A: "
   ],
   "metadata": {}
  },
  {
   "cell_type": "markdown",
   "source": [
    "---"
   ],
   "metadata": {}
  },
  {
   "cell_type": "markdown",
   "source": [
    "## 2. Natural Language Processing\n",
    "---\n",
    "###   Tokenizer\n",
    "\n",
    "In this section, you will use NLTK and Python to tokenize the text for each coin. Be sure to:\n",
    "1. Lowercase each word.\n",
    "2. Remove Punctuation.\n",
    "3. Remove Stopwords."
   ],
   "metadata": {}
  },
  {
   "cell_type": "code",
   "execution_count": 24,
   "source": [
    "from nltk.tokenize import word_tokenize, sent_tokenize\r\n",
    "from nltk.corpus import stopwords\r\n",
    "from nltk.stem import WordNetLemmatizer, PorterStemmer\r\n",
    "from string import punctuation\r\n",
    "import re"
   ],
   "outputs": [],
   "metadata": {}
  },
  {
   "cell_type": "code",
   "execution_count": 57,
   "source": [
    "# Instantiate the lemmatizer\r\n",
    "lemmatizer = WordNetLemmatizer()\r\n",
    "\r\n",
    "# Create a list of stopwords\r\n",
    "stop = stopwords.words('english')\r\n",
    "\r\n",
    "# Expand the default stopwords list if necessary\r\n",
    "stop.append(\"u\")\r\n",
    "stop.append(\"it'\")\r\n",
    "stop.append(\"'s\")\r\n",
    "stop.append(\"n't\")\r\n",
    "stop.append(\"_\")\r\n",
    "stop.append(\"\\`\")\r\n",
    "stop.append(\"``\")\r\n",
    "stop.append(\"''''\")\r\n",
    "stop = set(stop)"
   ],
   "outputs": [],
   "metadata": {}
  },
  {
   "cell_type": "code",
   "execution_count": null,
   "source": [
    "# Complete the tokenizer function\r\n",
    "def tokenizer(text):\r\n",
    "    sw= set(stopwords.words('english'))\r\n",
    "    regex= re.compile(\"[^a-zA-Z ]\")\r\n",
    "    \r\n",
    "    re_clean = regex.sub('', str(text))\r\n",
    "    words= word_tokenize(re_clean)\r\n",
    "    lem=[lemmatizer.lemmatize(word) for word in words]\r\n",
    "    output = [word.lower() for word in lem if word.lower() not in sw ]\r\n",
    "    \r\n",
    "    return output"
   ],
   "outputs": [],
   "metadata": {}
  },
  {
   "cell_type": "code",
   "execution_count": null,
   "source": [],
   "outputs": [],
   "metadata": {}
  },
  {
   "cell_type": "code",
   "execution_count": 47,
   "source": [
    "# Expand the default stopwords list if necessary\r\n",
    "# YOUR CODE HERE!\r\n",
    "def clean_text(article):\r\n",
    "    sw = set(stopwords.words('english'))\r\n",
    "    regex = re.compile(\"[^a-zA-Z ]\")\r\n",
    "    sw_addons = {'said', 'sent', 'found', 'including', 'today', 'announced', 'week', 'basically', 'also'}\r\n",
    "    \r\n",
    "    re_clean = regex.sub('', article)\r\n",
    "    words = word_tokenize(re_clean)\r\n",
    "    output = [word.lower() for word in words if word.lower() not in sw.union(sw_addons)]\r\n",
    "    return output"
   ],
   "outputs": [],
   "metadata": {}
  },
  {
   "cell_type": "code",
   "execution_count": null,
   "source": [
    "# Create a new tokens column for Bitcoin\r\n",
    "# YOUR CODE HERE!\r\n",
    "btc_df[\"tokens\"] = btc_df.Text.apply(tokenizer)\r\n",
    "btc_df.head()"
   ],
   "outputs": [],
   "metadata": {}
  },
  {
   "cell_type": "code",
   "execution_count": null,
   "source": [
    "# Create a new tokens column for Ethereum\r\n",
    "eth_df[\"tokens\"] = eth_df.Text.apply(tokenizer)\r\n",
    "eth_df.head()# YOUR CODE HERE!"
   ],
   "outputs": [],
   "metadata": {}
  },
  {
   "cell_type": "markdown",
   "source": [
    "---"
   ],
   "metadata": {}
  },
  {
   "cell_type": "markdown",
   "source": [
    "### NGrams and Frequency Analysis\n",
    "\n",
    "In this section you will look at the ngrams and word frequency for each coin. \n",
    "\n",
    "1. Use NLTK to produce the n-grams for N = 2. \n",
    "2. List the top 10 words for each coin. "
   ],
   "metadata": {}
  },
  {
   "cell_type": "code",
   "execution_count": null,
   "source": [
    "from collections import Counter\r\n",
    "from nltk import ngrams"
   ],
   "outputs": [],
   "metadata": {}
  },
  {
   "cell_type": "code",
   "execution_count": null,
   "source": [
    "# Generate the Bitcoin N-grams where N=2\r\n",
    "# YOUR CODE HERE!\r\n",
    "btc_ngram_counts = [Counter(ngrams(tokens, n=2)) for tokens in btc_df.tokens]\r\n",
    "dict(btc_ngram_counts[0].most_common(10)"
   ],
   "outputs": [],
   "metadata": {}
  },
  {
   "cell_type": "code",
   "execution_count": null,
   "source": [
    "# Generate the Ethereum N-grams where N=2\r\n",
    "# YOUR CODE HERE!\r\n",
    "eth_ngram_counts = [Counter(ngrams(tokens, n=2)) for tokens in eth_df.tokens]\r\n",
    "dict(eth_ngram_counts[0].most_common(10))"
   ],
   "outputs": [],
   "metadata": {}
  },
  {
   "cell_type": "code",
   "execution_count": null,
   "source": [
    "# Function token_count generates the top 10 words for a given coin\r\n",
    "def token_count(tokens, N=3):\r\n",
    "    \"\"\"Returns the top N tokens from the frequency count\"\"\"\r\n",
    "    return Counter(tokens).most_common(N)"
   ],
   "outputs": [],
   "metadata": {}
  },
  {
   "cell_type": "code",
   "execution_count": null,
   "source": [
    "# Use token_count to get the top 10 words for Bitcoin\r\n",
    "# YOUR CODE HERE!\r\n",
    "btc_count = []\r\n",
    "for tokens in btc_df.tokens:\r\n",
    "    btcstr += tokens\r\n",
    "btc_token_count = token_count(btc_count)\r\n",
    "btc_token_count"
   ],
   "outputs": [],
   "metadata": {}
  },
  {
   "cell_type": "code",
   "execution_count": null,
   "source": [
    "# Use token_count to get the top 10 words for Ethereum\r\n",
    "# YOUR CODE HERE!\r\n",
    "eth_count = []\r\n",
    "for tokens in eth_df.tokens:\r\n",
    "    ethstr += tokens\r\n",
    "eth_token_count = token_count(eth_count)\r\n",
    "eth_token_count"
   ],
   "outputs": [],
   "metadata": {}
  },
  {
   "cell_type": "markdown",
   "source": [
    "---"
   ],
   "metadata": {}
  },
  {
   "cell_type": "markdown",
   "source": [
    "### Word Clouds\n",
    "\n",
    "In this section, you will generate word clouds for each coin to summarize the news for each coin"
   ],
   "metadata": {}
  },
  {
   "cell_type": "code",
   "execution_count": null,
   "source": [
    "from wordcloud import WordCloud\r\n",
    "import matplotlib.pyplot as plt\r\n",
    "plt.style.use('seaborn-whitegrid')\r\n",
    "import matplotlib as mpl\r\n",
    "mpl.rcParams['figure.figsize'] = [20.0, 10.0]"
   ],
   "outputs": [],
   "metadata": {}
  },
  {
   "cell_type": "code",
   "execution_count": null,
   "source": [
    "# Generate the Bitcoin word cloud\r\n",
    "# YOUR CODE HERE!\r\n",
    "btc_wordcloud = ' '.join(btc_df['Text'])\r\n",
    "btc_wc = WordCloud().generate(btc_wordcloud)\r\n",
    "plt.imshow(btc_wc)"
   ],
   "outputs": [],
   "metadata": {}
  },
  {
   "cell_type": "code",
   "execution_count": null,
   "source": [
    "# Generate the Ethereum word cloud\r\n",
    "# YOUR CODE HERE!\r\n",
    "eth_wordcloud = ' '.join(eth_df['Text'])\r\n",
    "\r\n",
    "\r\n",
    "eth_wc = WordCloud().generate(eth_wordcloud)\r\n",
    "plt.imshow(eth_wc)"
   ],
   "outputs": [],
   "metadata": {}
  },
  {
   "cell_type": "markdown",
   "source": [
    "---\n",
    "## 3. Named Entity Recognition\n",
    "\n",
    "In this section, you will build a named entity recognition model for both Bitcoin and Ethereum, then visualize the tags using SpaCy."
   ],
   "metadata": {}
  },
  {
   "cell_type": "code",
   "execution_count": null,
   "source": [
    "import spacy\r\n",
    "from spacy import displacy"
   ],
   "outputs": [],
   "metadata": {}
  },
  {
   "cell_type": "code",
   "execution_count": null,
   "source": [
    "# Download the language model for SpaCy\r\n",
    "# !python -m spacy download en_core_web_sm"
   ],
   "outputs": [],
   "metadata": {}
  },
  {
   "cell_type": "code",
   "execution_count": null,
   "source": [
    "# Load the spaCy model\r\n",
    "nlp = spacy.load('en_core_web_sm')"
   ],
   "outputs": [],
   "metadata": {}
  },
  {
   "cell_type": "markdown",
   "source": [
    "---\n",
    "### Bitcoin NER"
   ],
   "metadata": {}
  },
  {
   "cell_type": "code",
   "execution_count": null,
   "source": [
    "# Concatenate all of the Bitcoin text together\r\n",
    "\r\n",
    "btc_wordcloud"
   ],
   "outputs": [],
   "metadata": {}
  },
  {
   "cell_type": "code",
   "execution_count": null,
   "source": [
    "# Run the NER processor on all of the text\r\n",
    "bitcoin = nlp(btc_wordcloud)\r\n",
    "\r\n",
    "# Add a title to the document\r\n",
    " bitcoin.user_data['title'] = 'Bitcoin NER'"
   ],
   "outputs": [],
   "metadata": {}
  },
  {
   "cell_type": "code",
   "execution_count": null,
   "source": [
    "# Render the visualization\r\n",
    "\r\n",
    "displacy.render(bitcoin, style = 'ent')"
   ],
   "outputs": [],
   "metadata": {}
  },
  {
   "cell_type": "code",
   "execution_count": null,
   "source": [
    "# List all Entities\r\n",
    "print(bitcoin.ents)"
   ],
   "outputs": [],
   "metadata": {}
  },
  {
   "cell_type": "markdown",
   "source": [
    "---"
   ],
   "metadata": {}
  },
  {
   "cell_type": "markdown",
   "source": [
    "### Ethereum NER"
   ],
   "metadata": {}
  },
  {
   "cell_type": "code",
   "execution_count": null,
   "source": [
    "# Concatenate all of the Ethereum text together\r\n",
    "eth_wordcloud"
   ],
   "outputs": [],
   "metadata": {}
  },
  {
   "cell_type": "code",
   "execution_count": null,
   "source": [
    "# Run the NER processor on all of the text\r\n",
    "ethereum = nlp(eth_wordcloud)\r\n",
    "\r\n",
    "# Add a title to the document\r\n",
    "ethereum.user_data['title'] = 'Ethereum NER'"
   ],
   "outputs": [],
   "metadata": {}
  },
  {
   "cell_type": "code",
   "execution_count": null,
   "source": [
    "# Render the visualization\r\n",
    "displacy.render(ethereum, style = 'ent')"
   ],
   "outputs": [],
   "metadata": {}
  },
  {
   "cell_type": "code",
   "execution_count": null,
   "source": [
    "# List all Entities\r\n",
    "print(ethereum.ents)"
   ],
   "outputs": [],
   "metadata": {}
  },
  {
   "cell_type": "markdown",
   "source": [
    "---"
   ],
   "metadata": {}
  }
 ],
 "metadata": {
  "file_extension": ".py",
  "kernelspec": {
   "display_name": "Python [conda env:pyvizenv] *",
   "language": "python",
   "name": "conda-env-pyvizenv-py"
  },
  "language_info": {
   "codemirror_mode": {
    "name": "ipython",
    "version": 3
   },
   "file_extension": ".py",
   "mimetype": "text/x-python",
   "name": "python",
   "nbconvert_exporter": "python",
   "pygments_lexer": "ipython3",
   "version": "3.7.9"
  },
  "mimetype": "text/x-python",
  "name": "python",
  "npconvert_exporter": "python",
  "pygments_lexer": "ipython3",
  "version": 3
 },
 "nbformat": 4,
 "nbformat_minor": 4
}