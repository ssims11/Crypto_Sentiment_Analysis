{
 "cells": [
  {
   "cell_type": "markdown",
   "source": [
    "# Unit 12 - Tales from the Crypto\n",
    "\n",
    "---\n"
   ],
   "metadata": {}
  },
  {
   "cell_type": "markdown",
   "source": [
    "## 1. Sentiment Analysis\n",
    "\n",
    "Use the [newsapi](https://newsapi.org/) to pull the latest news articles for Bitcoin and Ethereum and create a DataFrame of sentiment scores for each coin.\n",
    "\n",
    "Use descriptive statistics to answer the following questions:\n",
    "1. Which coin had the highest mean positive score?\n",
    "2. Which coin had the highest negative score?\n",
    "3. Which coin had the highest positive score?"
   ],
   "metadata": {}
  },
  {
   "cell_type": "code",
   "execution_count": 14,
   "source": [
    "# Initial imports\r\n",
    "import os\r\n",
    "import pandas as pd\r\n",
    "from dotenv import load_dotenv\r\n",
    "import nltk as nltk\r\n",
    "nltk.download('vader_lexicon')\r\n",
    "from nltk.sentiment.vader import SentimentIntensityAnalyzer\r\n",
    "analyzer = SentimentIntensityAnalyzer()\r\n",
    "\r\n",
    "%matplotlib inline"
   ],
   "outputs": [
    {
     "output_type": "stream",
     "name": "stderr",
     "text": [
      "[nltk_data] Downloading package vader_lexicon to\n",
      "[nltk_data]     C:\\Users\\Stephan\\AppData\\Roaming\\nltk_data...\n",
      "[nltk_data]   Package vader_lexicon is already up-to-date!\n"
     ]
    }
   ],
   "metadata": {}
  },
  {
   "cell_type": "code",
   "execution_count": 15,
   "source": [
    "# Read your api key environment variable\r\n",
    "load_dotenv()\r\n",
    "api_key = os.getenv('news_api')\r\n",
    "api_key"
   ],
   "outputs": [
    {
     "output_type": "execute_result",
     "data": {
      "text/plain": [
       "'351bb33c669e4b33a626c9e7b3aa4204'"
      ]
     },
     "metadata": {},
     "execution_count": 15
    }
   ],
   "metadata": {}
  },
  {
   "cell_type": "code",
   "execution_count": 16,
   "source": [
    "# Create a newsapi client\r\n",
    "from newsapi import NewsApiClient\r\n",
    "#newsapi = NewsApiClient(api_key = api_key)\r\n",
    "newsapi = NewsApiClient(api_key = api_key)\r\n",
    "\r\n",
    "newsapi"
   ],
   "outputs": [
    {
     "output_type": "execute_result",
     "data": {
      "text/plain": [
       "<newsapi.newsapi_client.NewsApiClient at 0x17021c1de88>"
      ]
     },
     "metadata": {},
     "execution_count": 16
    }
   ],
   "metadata": {}
  },
  {
   "cell_type": "code",
   "execution_count": 17,
   "source": [
    "# Fetch the Bitcoin news articles\r\n",
    "# YOUR CODE HERE!\r\n",
    "btcnews = newsapi.get_everything(\r\n",
    "    q = 'BTC AND Bitcoin AND btc',\r\n",
    "    language = 'en',\r\n",
    "    sort_by = 'relevancy'\r\n",
    ")\r\n",
    "#btcnews = newsapi.get_top_headlines(q = 'btc AND Bitcoin', language = 'en', sort_by = 'relevancy')\r\n",
    "#btcnews = newsapi.get_everything(q = 'Bitcoin')\r\n",
    "#btcnews = newsapi.get_top_headlines(q = 'Bitcoin', language = 'en')\r\n",
    "\r\n",
    "btcnews['articles'][0]"
   ],
   "outputs": [
    {
     "output_type": "execute_result",
     "data": {
      "text/plain": [
       "{'source': {'id': None, 'name': 'Entrepreneur'},\n",
       " 'author': 'Adrian Nita',\n",
       " 'title': 'What to Know Before Investing in Crypto',\n",
       " 'description': \"The crypto market is in the midst of a bear market, and it's been tough for many investors. But how do you cope?\",\n",
       " 'url': 'https://www.entrepreneur.com/article/376139',\n",
       " 'urlToImage': 'https://assets.entrepreneur.com/content/3x2/2000/1625167840-GettyImages-1292889055.jpg',\n",
       " 'publishedAt': '2021-07-08T12:00:00Z',\n",
       " 'content': 'Opinions expressed by Entrepreneur contributors are their own.\\r\\nCrypto is a volatile market that has seen its share of crashes, but the latest Bitcoin crash showed that not all crypto investors are r… [+5791 chars]'}"
      ]
     },
     "metadata": {},
     "execution_count": 17
    }
   ],
   "metadata": {}
  },
  {
   "cell_type": "code",
   "execution_count": 18,
   "source": [
    "# Create the Bitcoin sentiment scores DataFrame\r\n",
    "# YOUR CODE HERE!\r\n",
    "btc_sentiments = []\r\n",
    "\r\n",
    "for article in btcnews['articles']:\r\n",
    "    try:\r\n",
    "        text = article[\"content\"]\r\n",
    "        date = article[\"publishedAt\"][:10]\r\n",
    "        sentiment = analyzer.polarity_scores(text)\r\n",
    "        compound = sentiment[\"compound\"]\r\n",
    "        pos = sentiment[\"pos\"]\r\n",
    "        neu = sentiment[\"neu\"]\r\n",
    "        neg = sentiment[\"neg\"]\r\n",
    "        \r\n",
    "        btc_sentiments.append({\r\n",
    "            \"text\": text,\r\n",
    "            \"date\": date,\r\n",
    "            \"compound\": compound,\r\n",
    "            \"positive\": pos,\r\n",
    "            \"negative\": neg,\r\n",
    "            \"neutral\": neu\r\n",
    "            \r\n",
    "        })\r\n",
    "        \r\n",
    "    except AttributeError:\r\n",
    "        pass\r\n",
    "\r\n",
    "btc_df = pd.DataFrame(btc_sentiments)\r\n",
    "\r\n",
    "columns = [\"date\", \"text\", \"compound\", \"positive\", \"negative\", \"neutral\"]\r\n",
    "btc_df = btc_df[columns]\r\n",
    "\r\n",
    "btc_df.head()\r\n"
   ],
   "outputs": [
    {
     "output_type": "execute_result",
     "data": {
      "text/html": [
       "<div>\n",
       "<style scoped>\n",
       "    .dataframe tbody tr th:only-of-type {\n",
       "        vertical-align: middle;\n",
       "    }\n",
       "\n",
       "    .dataframe tbody tr th {\n",
       "        vertical-align: top;\n",
       "    }\n",
       "\n",
       "    .dataframe thead th {\n",
       "        text-align: right;\n",
       "    }\n",
       "</style>\n",
       "<table border=\"1\" class=\"dataframe\">\n",
       "  <thead>\n",
       "    <tr style=\"text-align: right;\">\n",
       "      <th></th>\n",
       "      <th>date</th>\n",
       "      <th>text</th>\n",
       "      <th>compound</th>\n",
       "      <th>positive</th>\n",
       "      <th>negative</th>\n",
       "      <th>neutral</th>\n",
       "    </tr>\n",
       "  </thead>\n",
       "  <tbody>\n",
       "    <tr>\n",
       "      <th>0</th>\n",
       "      <td>2021-07-08</td>\n",
       "      <td>Opinions expressed by Entrepreneur contributor...</td>\n",
       "      <td>-0.4497</td>\n",
       "      <td>0.043</td>\n",
       "      <td>0.096</td>\n",
       "      <td>0.861</td>\n",
       "    </tr>\n",
       "    <tr>\n",
       "      <th>1</th>\n",
       "      <td>2021-07-08</td>\n",
       "      <td>Bitcoin has lost around half its value since A...</td>\n",
       "      <td>-0.0258</td>\n",
       "      <td>0.071</td>\n",
       "      <td>0.103</td>\n",
       "      <td>0.826</td>\n",
       "    </tr>\n",
       "    <tr>\n",
       "      <th>2</th>\n",
       "      <td>2021-06-22</td>\n",
       "      <td>HONG KONG (Reuters) - Bitcoin regained some gr...</td>\n",
       "      <td>-0.5719</td>\n",
       "      <td>0.000</td>\n",
       "      <td>0.153</td>\n",
       "      <td>0.847</td>\n",
       "    </tr>\n",
       "    <tr>\n",
       "      <th>3</th>\n",
       "      <td>2021-06-22</td>\n",
       "      <td>HONG KONG, June 22 (Reuters) - Bitcoin regaine...</td>\n",
       "      <td>-0.5719</td>\n",
       "      <td>0.000</td>\n",
       "      <td>0.148</td>\n",
       "      <td>0.852</td>\n",
       "    </tr>\n",
       "    <tr>\n",
       "      <th>4</th>\n",
       "      <td>2021-07-18</td>\n",
       "      <td>A local business in El Salvador that accepts b...</td>\n",
       "      <td>0.3182</td>\n",
       "      <td>0.073</td>\n",
       "      <td>0.000</td>\n",
       "      <td>0.927</td>\n",
       "    </tr>\n",
       "  </tbody>\n",
       "</table>\n",
       "</div>"
      ],
      "text/plain": [
       "         date                                               text  compound  \\\n",
       "0  2021-07-08  Opinions expressed by Entrepreneur contributor...   -0.4497   \n",
       "1  2021-07-08  Bitcoin has lost around half its value since A...   -0.0258   \n",
       "2  2021-06-22  HONG KONG (Reuters) - Bitcoin regained some gr...   -0.5719   \n",
       "3  2021-06-22  HONG KONG, June 22 (Reuters) - Bitcoin regaine...   -0.5719   \n",
       "4  2021-07-18  A local business in El Salvador that accepts b...    0.3182   \n",
       "\n",
       "   positive  negative  neutral  \n",
       "0     0.043     0.096    0.861  \n",
       "1     0.071     0.103    0.826  \n",
       "2     0.000     0.153    0.847  \n",
       "3     0.000     0.148    0.852  \n",
       "4     0.073     0.000    0.927  "
      ]
     },
     "metadata": {},
     "execution_count": 18
    }
   ],
   "metadata": {}
  },
  {
   "cell_type": "code",
   "execution_count": 19,
   "source": [
    "def get_sentiment(score):\r\n",
    "\r\n",
    "    btc_result = 0  # Neutral by default\r\n",
    "    if score >= 0.05:  # Positive\r\n",
    "        btc_result = 1\r\n",
    "    elif score <= -0.05:  # Negative\r\n",
    "        btc_result = -1\r\n",
    "\r\n",
    "    return btc_result"
   ],
   "outputs": [],
   "metadata": {}
  },
  {
   "cell_type": "code",
   "execution_count": 20,
   "source": [
    "# Describe the Bitcoin Sentiment\r\n",
    "# YOUR CODE HERE!\r\n",
    "btc_df.describe()"
   ],
   "outputs": [
    {
     "output_type": "execute_result",
     "data": {
      "text/html": [
       "<div>\n",
       "<style scoped>\n",
       "    .dataframe tbody tr th:only-of-type {\n",
       "        vertical-align: middle;\n",
       "    }\n",
       "\n",
       "    .dataframe tbody tr th {\n",
       "        vertical-align: top;\n",
       "    }\n",
       "\n",
       "    .dataframe thead th {\n",
       "        text-align: right;\n",
       "    }\n",
       "</style>\n",
       "<table border=\"1\" class=\"dataframe\">\n",
       "  <thead>\n",
       "    <tr style=\"text-align: right;\">\n",
       "      <th></th>\n",
       "      <th>compound</th>\n",
       "      <th>positive</th>\n",
       "      <th>negative</th>\n",
       "      <th>neutral</th>\n",
       "    </tr>\n",
       "  </thead>\n",
       "  <tbody>\n",
       "    <tr>\n",
       "      <th>count</th>\n",
       "      <td>20.000000</td>\n",
       "      <td>20.00000</td>\n",
       "      <td>20.000000</td>\n",
       "      <td>20.000000</td>\n",
       "    </tr>\n",
       "    <tr>\n",
       "      <th>mean</th>\n",
       "      <td>-0.184140</td>\n",
       "      <td>0.03710</td>\n",
       "      <td>0.079250</td>\n",
       "      <td>0.883650</td>\n",
       "    </tr>\n",
       "    <tr>\n",
       "      <th>std</th>\n",
       "      <td>0.468673</td>\n",
       "      <td>0.05767</td>\n",
       "      <td>0.078076</td>\n",
       "      <td>0.078621</td>\n",
       "    </tr>\n",
       "    <tr>\n",
       "      <th>min</th>\n",
       "      <td>-0.862500</td>\n",
       "      <td>0.00000</td>\n",
       "      <td>0.000000</td>\n",
       "      <td>0.758000</td>\n",
       "    </tr>\n",
       "    <tr>\n",
       "      <th>25%</th>\n",
       "      <td>-0.571900</td>\n",
       "      <td>0.00000</td>\n",
       "      <td>0.000000</td>\n",
       "      <td>0.824250</td>\n",
       "    </tr>\n",
       "    <tr>\n",
       "      <th>50%</th>\n",
       "      <td>-0.182900</td>\n",
       "      <td>0.00000</td>\n",
       "      <td>0.084500</td>\n",
       "      <td>0.870000</td>\n",
       "    </tr>\n",
       "    <tr>\n",
       "      <th>75%</th>\n",
       "      <td>0.025675</td>\n",
       "      <td>0.07025</td>\n",
       "      <td>0.134500</td>\n",
       "      <td>0.930500</td>\n",
       "    </tr>\n",
       "    <tr>\n",
       "      <th>max</th>\n",
       "      <td>0.765000</td>\n",
       "      <td>0.21300</td>\n",
       "      <td>0.242000</td>\n",
       "      <td>1.000000</td>\n",
       "    </tr>\n",
       "  </tbody>\n",
       "</table>\n",
       "</div>"
      ],
      "text/plain": [
       "        compound  positive   negative    neutral\n",
       "count  20.000000  20.00000  20.000000  20.000000\n",
       "mean   -0.184140   0.03710   0.079250   0.883650\n",
       "std     0.468673   0.05767   0.078076   0.078621\n",
       "min    -0.862500   0.00000   0.000000   0.758000\n",
       "25%    -0.571900   0.00000   0.000000   0.824250\n",
       "50%    -0.182900   0.00000   0.084500   0.870000\n",
       "75%     0.025675   0.07025   0.134500   0.930500\n",
       "max     0.765000   0.21300   0.242000   1.000000"
      ]
     },
     "metadata": {},
     "execution_count": 20
    }
   ],
   "metadata": {}
  },
  {
   "cell_type": "code",
   "execution_count": 21,
   "source": [
    "# Fetch the Ethereum news articles\r\n",
    "# YOUR CODE HERE!\r\n",
    "ethnews = newsapi.get_everything(\r\n",
    "    q = 'Ethereum AND ETH AND eth', \r\n",
    "    language = 'en',\r\n",
    "    sort_by = 'relevancy'\r\n",
    ")\r\n",
    "ethnews['articles'][0]"
   ],
   "outputs": [
    {
     "output_type": "execute_result",
     "data": {
      "text/plain": [
       "{'source': {'id': None, 'name': 'Avc.com'},\n",
       " 'author': 'Fred Wilson',\n",
       " 'title': 'Funding Friday: Ethereum: The Infinite Garden',\n",
       " 'description': 'ETHEREUM: THE INFINITE GARDEN is a “feature-length documentary film that explores the innovative real-world applications of the Ethereum blockchain, the die-hard community of enthusiasts and developers, and its creator, Vitalik Buterin, whose vision for the i…',\n",
       " 'url': 'https://avc.com/2021/07/funding-friday-ethereum-the-infinite-garden/',\n",
       " 'urlToImage': 'https://avc.com/content/uploads/2021/07/Screen-Shot-2021-07-16-at-7.14.35-AM.png',\n",
       " 'publishedAt': '2021-07-16T11:23:51Z',\n",
       " 'content': 'ETHEREUM: THE INFINITE GARDEN is a “feature-length documentary film that explores the innovative real-world applications of the Ethereum blockchain, the die-hard community of enthusiasts and develope… [+522 chars]'}"
      ]
     },
     "metadata": {},
     "execution_count": 21
    }
   ],
   "metadata": {}
  },
  {
   "cell_type": "code",
   "execution_count": 22,
   "source": [
    "# Create the Ethereum sentiment scores DataFrame\r\n",
    "# YOUR CODE HERE!\r\n",
    "eth_sentiments = []\r\n",
    "\r\n",
    "for article in ethnews['articles']:\r\n",
    "    try:\r\n",
    "        text = article[\"content\"]\r\n",
    "        date = article[\"publishedAt\"][:10]\r\n",
    "        sentiment = analyzer.polarity_scores(text)\r\n",
    "        compound = sentiment[\"compound\"]\r\n",
    "        pos = sentiment[\"pos\"]\r\n",
    "        neu = sentiment[\"neu\"]\r\n",
    "        neg = sentiment[\"neg\"]\r\n",
    "        \r\n",
    "        btc_sentiments.append({\r\n",
    "            \"text\": text,\r\n",
    "            \"date\": date,\r\n",
    "            \"compound\": compound,\r\n",
    "            \"positive\": pos,\r\n",
    "            \"negative\": neg,\r\n",
    "            \"neutral\": neu\r\n",
    "            \r\n",
    "        })\r\n",
    "        \r\n",
    "    except AttributeError:\r\n",
    "        pass\r\n",
    "\r\n",
    "eth_df = pd.DataFrame(eth_sentiments)\r\n",
    "\r\n",
    "columns = [\"date\", \"text\", \"compound\", \"positive\", \"negative\", \"neutral\"]\r\n",
    "eth_df = btc_df[columns]\r\n",
    "\r\n",
    "eth_df.head()"
   ],
   "outputs": [
    {
     "output_type": "execute_result",
     "data": {
      "text/html": [
       "<div>\n",
       "<style scoped>\n",
       "    .dataframe tbody tr th:only-of-type {\n",
       "        vertical-align: middle;\n",
       "    }\n",
       "\n",
       "    .dataframe tbody tr th {\n",
       "        vertical-align: top;\n",
       "    }\n",
       "\n",
       "    .dataframe thead th {\n",
       "        text-align: right;\n",
       "    }\n",
       "</style>\n",
       "<table border=\"1\" class=\"dataframe\">\n",
       "  <thead>\n",
       "    <tr style=\"text-align: right;\">\n",
       "      <th></th>\n",
       "      <th>date</th>\n",
       "      <th>text</th>\n",
       "      <th>compound</th>\n",
       "      <th>positive</th>\n",
       "      <th>negative</th>\n",
       "      <th>neutral</th>\n",
       "    </tr>\n",
       "  </thead>\n",
       "  <tbody>\n",
       "    <tr>\n",
       "      <th>0</th>\n",
       "      <td>2021-07-08</td>\n",
       "      <td>Opinions expressed by Entrepreneur contributor...</td>\n",
       "      <td>-0.4497</td>\n",
       "      <td>0.043</td>\n",
       "      <td>0.096</td>\n",
       "      <td>0.861</td>\n",
       "    </tr>\n",
       "    <tr>\n",
       "      <th>1</th>\n",
       "      <td>2021-07-08</td>\n",
       "      <td>Bitcoin has lost around half its value since A...</td>\n",
       "      <td>-0.0258</td>\n",
       "      <td>0.071</td>\n",
       "      <td>0.103</td>\n",
       "      <td>0.826</td>\n",
       "    </tr>\n",
       "    <tr>\n",
       "      <th>2</th>\n",
       "      <td>2021-06-22</td>\n",
       "      <td>HONG KONG (Reuters) - Bitcoin regained some gr...</td>\n",
       "      <td>-0.5719</td>\n",
       "      <td>0.000</td>\n",
       "      <td>0.153</td>\n",
       "      <td>0.847</td>\n",
       "    </tr>\n",
       "    <tr>\n",
       "      <th>3</th>\n",
       "      <td>2021-06-22</td>\n",
       "      <td>HONG KONG, June 22 (Reuters) - Bitcoin regaine...</td>\n",
       "      <td>-0.5719</td>\n",
       "      <td>0.000</td>\n",
       "      <td>0.148</td>\n",
       "      <td>0.852</td>\n",
       "    </tr>\n",
       "    <tr>\n",
       "      <th>4</th>\n",
       "      <td>2021-07-18</td>\n",
       "      <td>A local business in El Salvador that accepts b...</td>\n",
       "      <td>0.3182</td>\n",
       "      <td>0.073</td>\n",
       "      <td>0.000</td>\n",
       "      <td>0.927</td>\n",
       "    </tr>\n",
       "  </tbody>\n",
       "</table>\n",
       "</div>"
      ],
      "text/plain": [
       "         date                                               text  compound  \\\n",
       "0  2021-07-08  Opinions expressed by Entrepreneur contributor...   -0.4497   \n",
       "1  2021-07-08  Bitcoin has lost around half its value since A...   -0.0258   \n",
       "2  2021-06-22  HONG KONG (Reuters) - Bitcoin regained some gr...   -0.5719   \n",
       "3  2021-06-22  HONG KONG, June 22 (Reuters) - Bitcoin regaine...   -0.5719   \n",
       "4  2021-07-18  A local business in El Salvador that accepts b...    0.3182   \n",
       "\n",
       "   positive  negative  neutral  \n",
       "0     0.043     0.096    0.861  \n",
       "1     0.071     0.103    0.826  \n",
       "2     0.000     0.153    0.847  \n",
       "3     0.000     0.148    0.852  \n",
       "4     0.073     0.000    0.927  "
      ]
     },
     "metadata": {},
     "execution_count": 22
    }
   ],
   "metadata": {}
  },
  {
   "cell_type": "code",
   "execution_count": 10,
   "source": [
    "# Describe the Ethereum Sentiment\r\n",
    "# YOUR CODE HERE!\r\n",
    "eth_df.describe()"
   ],
   "outputs": [
    {
     "output_type": "execute_result",
     "data": {
      "text/html": [
       "<div>\n",
       "<style scoped>\n",
       "    .dataframe tbody tr th:only-of-type {\n",
       "        vertical-align: middle;\n",
       "    }\n",
       "\n",
       "    .dataframe tbody tr th {\n",
       "        vertical-align: top;\n",
       "    }\n",
       "\n",
       "    .dataframe thead th {\n",
       "        text-align: right;\n",
       "    }\n",
       "</style>\n",
       "<table border=\"1\" class=\"dataframe\">\n",
       "  <thead>\n",
       "    <tr style=\"text-align: right;\">\n",
       "      <th></th>\n",
       "      <th>compound</th>\n",
       "      <th>positive</th>\n",
       "      <th>negative</th>\n",
       "      <th>neutral</th>\n",
       "    </tr>\n",
       "  </thead>\n",
       "  <tbody>\n",
       "    <tr>\n",
       "      <th>count</th>\n",
       "      <td>20.000000</td>\n",
       "      <td>20.00000</td>\n",
       "      <td>20.000000</td>\n",
       "      <td>20.000000</td>\n",
       "    </tr>\n",
       "    <tr>\n",
       "      <th>mean</th>\n",
       "      <td>-0.184140</td>\n",
       "      <td>0.03710</td>\n",
       "      <td>0.079250</td>\n",
       "      <td>0.883650</td>\n",
       "    </tr>\n",
       "    <tr>\n",
       "      <th>std</th>\n",
       "      <td>0.468673</td>\n",
       "      <td>0.05767</td>\n",
       "      <td>0.078076</td>\n",
       "      <td>0.078621</td>\n",
       "    </tr>\n",
       "    <tr>\n",
       "      <th>min</th>\n",
       "      <td>-0.862500</td>\n",
       "      <td>0.00000</td>\n",
       "      <td>0.000000</td>\n",
       "      <td>0.758000</td>\n",
       "    </tr>\n",
       "    <tr>\n",
       "      <th>25%</th>\n",
       "      <td>-0.571900</td>\n",
       "      <td>0.00000</td>\n",
       "      <td>0.000000</td>\n",
       "      <td>0.824250</td>\n",
       "    </tr>\n",
       "    <tr>\n",
       "      <th>50%</th>\n",
       "      <td>-0.182900</td>\n",
       "      <td>0.00000</td>\n",
       "      <td>0.084500</td>\n",
       "      <td>0.870000</td>\n",
       "    </tr>\n",
       "    <tr>\n",
       "      <th>75%</th>\n",
       "      <td>0.025675</td>\n",
       "      <td>0.07025</td>\n",
       "      <td>0.134500</td>\n",
       "      <td>0.930500</td>\n",
       "    </tr>\n",
       "    <tr>\n",
       "      <th>max</th>\n",
       "      <td>0.765000</td>\n",
       "      <td>0.21300</td>\n",
       "      <td>0.242000</td>\n",
       "      <td>1.000000</td>\n",
       "    </tr>\n",
       "  </tbody>\n",
       "</table>\n",
       "</div>"
      ],
      "text/plain": [
       "        compound  positive   negative    neutral\n",
       "count  20.000000  20.00000  20.000000  20.000000\n",
       "mean   -0.184140   0.03710   0.079250   0.883650\n",
       "std     0.468673   0.05767   0.078076   0.078621\n",
       "min    -0.862500   0.00000   0.000000   0.758000\n",
       "25%    -0.571900   0.00000   0.000000   0.824250\n",
       "50%    -0.182900   0.00000   0.084500   0.870000\n",
       "75%     0.025675   0.07025   0.134500   0.930500\n",
       "max     0.765000   0.21300   0.242000   1.000000"
      ]
     },
     "metadata": {},
     "execution_count": 10
    }
   ],
   "metadata": {}
  },
  {
   "cell_type": "code",
   "execution_count": 23,
   "source": [
    "def get_sentiment(score):\r\n",
    "\r\n",
    "    eth_result = 0  # Neutral by default\r\n",
    "    if score >= 0.05:  # Positive\r\n",
    "        eth_result = 1\r\n",
    "    elif score <= -0.05:  # Negative\r\n",
    "        eth_result = -1\r\n",
    "\r\n",
    "    return eth_result"
   ],
   "outputs": [],
   "metadata": {}
  },
  {
   "cell_type": "markdown",
   "source": [
    "### Questions:\n",
    "\n",
    "Q: Which coin had the highest mean positive score?\n",
    "\n",
    "A: \n",
    "\n",
    "Q: Which coin had the highest compound score?\n",
    "\n",
    "A: \n",
    "\n",
    "Q. Which coin had the highest positive score?\n",
    "\n",
    "A: "
   ],
   "metadata": {}
  },
  {
   "cell_type": "markdown",
   "source": [
    "---"
   ],
   "metadata": {}
  },
  {
   "cell_type": "markdown",
   "source": [
    "## 2. Natural Language Processing\n",
    "---\n",
    "###   Tokenizer\n",
    "\n",
    "In this section, you will use NLTK and Python to tokenize the text for each coin. Be sure to:\n",
    "1. Lowercase each word.\n",
    "2. Remove Punctuation.\n",
    "3. Remove Stopwords."
   ],
   "metadata": {}
  },
  {
   "cell_type": "code",
   "execution_count": 24,
   "source": [
    "from nltk.tokenize import word_tokenize, sent_tokenize\n",
    "from nltk.corpus import stopwords\n",
    "from nltk.stem import WordNetLemmatizer, PorterStemmer\n",
    "from string import punctuation\n",
    "import re"
   ],
   "outputs": [],
   "metadata": {}
  },
  {
   "cell_type": "code",
   "execution_count": 57,
   "source": [
    "# Instantiate the lemmatizer\n",
    "# YOUR CODE HERE!\n",
    "lemmatizer = WordNetLemmatizer()\n",
    "\n",
    "# Create a list of stopwords\n",
    "# YOUR CODE HERE!\n",
    "def process_text(article):\n",
    "    sw = set(stopwords.words('english'))\n",
    "    regex = re.compile(\"[^a-zA-Z ]\")\n",
    "    re_clean = regex.sub('', article)\n",
    "    words = word_tokenize(re_clean)\n",
    "    lem = [lemmatizer.lemmatize(word) for word in words]\n",
    "    output = [word.lower() for word in lem if word.lower() not in sw]\n",
    "    return output"
   ],
   "outputs": [],
   "metadata": {}
  },
  {
   "cell_type": "code",
   "execution_count": 59,
   "source": [
    "print(set(process_text(article)))"
   ],
   "outputs": [
    {
     "output_type": "error",
     "ename": "TypeError",
     "evalue": "expected string or bytes-like object",
     "traceback": [
      "\u001b[1;31m---------------------------------------------------------------------------\u001b[0m",
      "\u001b[1;31mTypeError\u001b[0m                                 Traceback (most recent call last)",
      "\u001b[1;32m<ipython-input-59-c48e6684292d>\u001b[0m in \u001b[0;36m<module>\u001b[1;34m\u001b[0m\n\u001b[1;32m----> 1\u001b[1;33m \u001b[0mprint\u001b[0m\u001b[1;33m(\u001b[0m\u001b[0mset\u001b[0m\u001b[1;33m(\u001b[0m\u001b[0mprocess_text\u001b[0m\u001b[1;33m(\u001b[0m\u001b[0marticle\u001b[0m\u001b[1;33m)\u001b[0m\u001b[1;33m)\u001b[0m\u001b[1;33m)\u001b[0m\u001b[1;33m\u001b[0m\u001b[1;33m\u001b[0m\u001b[0m\n\u001b[0m",
      "\u001b[1;32m<ipython-input-57-05994c0deee7>\u001b[0m in \u001b[0;36mprocess_text\u001b[1;34m(article)\u001b[0m\n\u001b[0;32m      8\u001b[0m     \u001b[0msw\u001b[0m \u001b[1;33m=\u001b[0m \u001b[0mset\u001b[0m\u001b[1;33m(\u001b[0m\u001b[0mstopwords\u001b[0m\u001b[1;33m.\u001b[0m\u001b[0mwords\u001b[0m\u001b[1;33m(\u001b[0m\u001b[1;34m'english'\u001b[0m\u001b[1;33m)\u001b[0m\u001b[1;33m)\u001b[0m\u001b[1;33m\u001b[0m\u001b[1;33m\u001b[0m\u001b[0m\n\u001b[0;32m      9\u001b[0m     \u001b[0mregex\u001b[0m \u001b[1;33m=\u001b[0m \u001b[0mre\u001b[0m\u001b[1;33m.\u001b[0m\u001b[0mcompile\u001b[0m\u001b[1;33m(\u001b[0m\u001b[1;34m\"[^a-zA-Z ]\"\u001b[0m\u001b[1;33m)\u001b[0m\u001b[1;33m\u001b[0m\u001b[1;33m\u001b[0m\u001b[0m\n\u001b[1;32m---> 10\u001b[1;33m     \u001b[0mre_clean\u001b[0m \u001b[1;33m=\u001b[0m \u001b[0mregex\u001b[0m\u001b[1;33m.\u001b[0m\u001b[0msub\u001b[0m\u001b[1;33m(\u001b[0m\u001b[1;34m''\u001b[0m\u001b[1;33m,\u001b[0m \u001b[0marticle\u001b[0m\u001b[1;33m)\u001b[0m\u001b[1;33m\u001b[0m\u001b[1;33m\u001b[0m\u001b[0m\n\u001b[0m\u001b[0;32m     11\u001b[0m     \u001b[0mwords\u001b[0m \u001b[1;33m=\u001b[0m \u001b[0mword_tokenize\u001b[0m\u001b[1;33m(\u001b[0m\u001b[0mre_clean\u001b[0m\u001b[1;33m)\u001b[0m\u001b[1;33m\u001b[0m\u001b[1;33m\u001b[0m\u001b[0m\n\u001b[0;32m     12\u001b[0m     \u001b[0mlem\u001b[0m \u001b[1;33m=\u001b[0m \u001b[1;33m[\u001b[0m\u001b[0mlemmatizer\u001b[0m\u001b[1;33m.\u001b[0m\u001b[0mlemmatize\u001b[0m\u001b[1;33m(\u001b[0m\u001b[0mword\u001b[0m\u001b[1;33m)\u001b[0m \u001b[1;32mfor\u001b[0m \u001b[0mword\u001b[0m \u001b[1;32min\u001b[0m \u001b[0mwords\u001b[0m\u001b[1;33m]\u001b[0m\u001b[1;33m\u001b[0m\u001b[1;33m\u001b[0m\u001b[0m\n",
      "\u001b[1;31mTypeError\u001b[0m: expected string or bytes-like object"
     ]
    }
   ],
   "metadata": {}
  },
  {
   "cell_type": "code",
   "execution_count": 47,
   "source": [
    "# Expand the default stopwords list if necessary\n",
    "# YOUR CODE HERE!\n",
    "def clean_text(article):\n",
    "    sw = set(stopwords.words('english'))\n",
    "    regex = re.compile(\"[^a-zA-Z ]\")\n",
    "    sw_addons = {'said', 'sent', 'found', 'including', 'today', 'announced', 'week', 'basically', 'also'}\n",
    "    \n",
    "    re_clean = regex.sub('', article)\n",
    "    words = word_tokenize(re_clean)\n",
    "    output = [word.lower() for word in words if word.lower() not in sw.union(sw_addons)]\n",
    "    return output"
   ],
   "outputs": [],
   "metadata": {}
  },
  {
   "cell_type": "code",
   "execution_count": null,
   "source": [
    "# Create a new tokens column for Bitcoin\n",
    "# YOUR CODE HERE!\n"
   ],
   "outputs": [],
   "metadata": {}
  },
  {
   "cell_type": "code",
   "execution_count": null,
   "source": [
    "# Create a new tokens column for Ethereum\n",
    "# YOUR CODE HERE!"
   ],
   "outputs": [],
   "metadata": {}
  },
  {
   "cell_type": "markdown",
   "source": [
    "---"
   ],
   "metadata": {}
  },
  {
   "cell_type": "markdown",
   "source": [
    "### NGrams and Frequency Analysis\n",
    "\n",
    "In this section you will look at the ngrams and word frequency for each coin. \n",
    "\n",
    "1. Use NLTK to produce the n-grams for N = 2. \n",
    "2. List the top 10 words for each coin. "
   ],
   "metadata": {}
  },
  {
   "cell_type": "code",
   "execution_count": null,
   "source": [
    "from collections import Counter\n",
    "from nltk import ngrams"
   ],
   "outputs": [],
   "metadata": {}
  },
  {
   "cell_type": "code",
   "execution_count": null,
   "source": [
    "# Generate the Bitcoin N-grams where N=2\n",
    "# YOUR CODE HERE!\n",
    "processed = process_text(text)\n",
    "from collections import Counter\n",
    "word_counts = Counter(processed)\n",
    "print(dict(word_counts.most_common(20))) \n",
    "bigram_counts = Counter(ngrams(processed, n=2)) \n",
    "print(dict(bigram_counts.most_common(10))) "
   ],
   "outputs": [],
   "metadata": {}
  },
  {
   "cell_type": "code",
   "execution_count": null,
   "source": [
    "# Generate the Ethereum N-grams where N=2\n",
    "# YOUR CODE HERE!"
   ],
   "outputs": [],
   "metadata": {}
  },
  {
   "cell_type": "code",
   "execution_count": null,
   "source": [
    "# Function token_count generates the top 10 words for a given coin\n",
    "def token_count(tokens, N=3):\n",
    "    \"\"\"Returns the top N tokens from the frequency count\"\"\"\n",
    "    return Counter(tokens).most_common(N)"
   ],
   "outputs": [],
   "metadata": {}
  },
  {
   "cell_type": "code",
   "execution_count": null,
   "source": [
    "# Use token_count to get the top 10 words for Bitcoin\n",
    "# YOUR CODE HERE!\n",
    "print(dict(bigram_counts.most_common(10))) "
   ],
   "outputs": [],
   "metadata": {}
  },
  {
   "cell_type": "code",
   "execution_count": null,
   "source": [
    "# Use token_count to get the top 10 words for Ethereum\n",
    "# YOUR CODE HERE!"
   ],
   "outputs": [],
   "metadata": {}
  },
  {
   "cell_type": "markdown",
   "source": [
    "---"
   ],
   "metadata": {}
  },
  {
   "cell_type": "markdown",
   "source": [
    "### Word Clouds\n",
    "\n",
    "In this section, you will generate word clouds for each coin to summarize the news for each coin"
   ],
   "metadata": {}
  },
  {
   "cell_type": "code",
   "execution_count": null,
   "source": [
    "from wordcloud import WordCloud\n",
    "import matplotlib.pyplot as plt\n",
    "plt.style.use('seaborn-whitegrid')\n",
    "import matplotlib as mpl\n",
    "mpl.rcParams['figure.figsize'] = [20.0, 10.0]"
   ],
   "outputs": [],
   "metadata": {}
  },
  {
   "cell_type": "code",
   "execution_count": null,
   "source": [
    "# Generate the Bitcoin word cloud\n",
    "# YOUR CODE HERE!\n",
    "\n",
    "btc_wc = WordCloud().generate(' '.join(entities))\n",
    "plt.imshow(btc_wc)"
   ],
   "outputs": [],
   "metadata": {}
  },
  {
   "cell_type": "code",
   "execution_count": null,
   "source": [
    "# Generate the Ethereum word cloud\n",
    "# YOUR CODE HERE!\n",
    "eth_wc = WordCloud().generate(' '.join(entities))\n",
    "plt.imshow(eth_wc)"
   ],
   "outputs": [],
   "metadata": {}
  },
  {
   "cell_type": "markdown",
   "source": [
    "---\n",
    "## 3. Named Entity Recognition\n",
    "\n",
    "In this section, you will build a named entity recognition model for both Bitcoin and Ethereum, then visualize the tags using SpaCy."
   ],
   "metadata": {}
  },
  {
   "cell_type": "code",
   "execution_count": null,
   "source": [
    "import spacy\n",
    "from spacy import displacy"
   ],
   "outputs": [],
   "metadata": {}
  },
  {
   "cell_type": "code",
   "execution_count": null,
   "source": [
    "# Download the language model for SpaCy\n",
    "# !python -m spacy download en_core_web_sm"
   ],
   "outputs": [],
   "metadata": {}
  },
  {
   "cell_type": "code",
   "execution_count": null,
   "source": [
    "# Load the spaCy model\n",
    "nlp = spacy.load('en_core_web_sm')"
   ],
   "outputs": [],
   "metadata": {}
  },
  {
   "cell_type": "markdown",
   "source": [
    "---\n",
    "### Bitcoin NER"
   ],
   "metadata": {}
  },
  {
   "cell_type": "code",
   "execution_count": null,
   "source": [
    "# Concatenate all of the Bitcoin text together\n",
    "# YOUR CODE HERE!"
   ],
   "outputs": [],
   "metadata": {}
  },
  {
   "cell_type": "code",
   "execution_count": null,
   "source": [
    "# Run the NER processor on all of the text\n",
    "# YOUR CODE HERE!\n",
    "\n",
    "# Add a title to the document\n",
    "# YOUR CODE HERE!"
   ],
   "outputs": [],
   "metadata": {}
  },
  {
   "cell_type": "code",
   "execution_count": null,
   "source": [
    "# Render the visualization\n",
    "# YOUR CODE HERE!"
   ],
   "outputs": [],
   "metadata": {}
  },
  {
   "cell_type": "code",
   "execution_count": null,
   "source": [
    "# List all Entities\n",
    "# YOUR CODE HERE!"
   ],
   "outputs": [],
   "metadata": {}
  },
  {
   "cell_type": "markdown",
   "source": [
    "---"
   ],
   "metadata": {}
  },
  {
   "cell_type": "markdown",
   "source": [
    "### Ethereum NER"
   ],
   "metadata": {}
  },
  {
   "cell_type": "code",
   "execution_count": null,
   "source": [
    "# Concatenate all of the Ethereum text together\n",
    "# YOUR CODE HERE!"
   ],
   "outputs": [],
   "metadata": {}
  },
  {
   "cell_type": "code",
   "execution_count": null,
   "source": [
    "# Run the NER processor on all of the text\n",
    "# YOUR CODE HERE!\n",
    "\n",
    "# Add a title to the document\n",
    "# YOUR CODE HERE!"
   ],
   "outputs": [],
   "metadata": {}
  },
  {
   "cell_type": "code",
   "execution_count": null,
   "source": [
    "# Render the visualization\n",
    "# YOUR CODE HERE!"
   ],
   "outputs": [],
   "metadata": {}
  },
  {
   "cell_type": "code",
   "execution_count": null,
   "source": [
    "# List all Entities\n",
    "# YOUR CODE HERE!"
   ],
   "outputs": [],
   "metadata": {}
  },
  {
   "cell_type": "markdown",
   "source": [
    "---"
   ],
   "metadata": {}
  }
 ],
 "metadata": {
  "file_extension": ".py",
  "kernelspec": {
   "display_name": "Python [conda env:pyvizenv] *",
   "language": "python",
   "name": "conda-env-pyvizenv-py"
  },
  "language_info": {
   "codemirror_mode": {
    "name": "ipython",
    "version": 3
   },
   "file_extension": ".py",
   "mimetype": "text/x-python",
   "name": "python",
   "nbconvert_exporter": "python",
   "pygments_lexer": "ipython3",
   "version": "3.7.9"
  },
  "mimetype": "text/x-python",
  "name": "python",
  "npconvert_exporter": "python",
  "pygments_lexer": "ipython3",
  "version": 3
 },
 "nbformat": 4,
 "nbformat_minor": 4
}